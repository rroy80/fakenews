{
 "cells": [
  {
   "cell_type": "code",
   "execution_count": 42,
   "id": "b577ce5d-397c-4d1c-abda-0b3c64ef48e7",
   "metadata": {},
   "outputs": [],
   "source": [
    "import pandas as pd \n",
    "import seaborn as sns \n",
    "import matplotlib.pyplot as plt"
   ]
  },
  {
   "cell_type": "code",
   "execution_count": 122,
   "id": "465347c0-f392-4af4-9061-fe2a3ce4e5c8",
   "metadata": {},
   "outputs": [],
   "source": [
    "truenews = pd.read_csv('./data/True.csv') \n",
    "#truenews.head()\n",
    "fakenews = pd.read_csv('./data/Fake.csv') \n",
    "#fakenews.head()"
   ]
  },
  {
   "cell_type": "code",
   "execution_count": 123,
   "id": "787552ba-5c83-4f36-bd50-b23c3c67f9fa",
   "metadata": {},
   "outputs": [],
   "source": [
    "\n",
    "truenews = truenews.drop([ \"subject\",\"date\"], axis = 1)\n",
    "fakenews = fakenews.drop([ \"subject\",\"date\"], axis = 1)"
   ]
  },
  {
   "cell_type": "code",
   "execution_count": 124,
   "id": "864b0060-112a-4457-8501-d3771471c0c1",
   "metadata": {},
   "outputs": [],
   "source": [
    "truenews['result'] = 0\n",
    "fakenews['result'] = 1"
   ]
  },
  {
   "cell_type": "code",
   "execution_count": 125,
   "id": "08baad50-05ee-4555-9169-eadf22682ce4",
   "metadata": {},
   "outputs": [
    {
     "data": {
      "text/html": [
       "<div>\n",
       "<style scoped>\n",
       "    .dataframe tbody tr th:only-of-type {\n",
       "        vertical-align: middle;\n",
       "    }\n",
       "\n",
       "    .dataframe tbody tr th {\n",
       "        vertical-align: top;\n",
       "    }\n",
       "\n",
       "    .dataframe thead th {\n",
       "        text-align: right;\n",
       "    }\n",
       "</style>\n",
       "<table border=\"1\" class=\"dataframe\">\n",
       "  <thead>\n",
       "    <tr style=\"text-align: right;\">\n",
       "      <th></th>\n",
       "      <th>title</th>\n",
       "      <th>text</th>\n",
       "      <th>result</th>\n",
       "    </tr>\n",
       "  </thead>\n",
       "  <tbody>\n",
       "    <tr>\n",
       "      <th>0</th>\n",
       "      <td>As U.S. budget fight looms, Republicans flip t...</td>\n",
       "      <td>WASHINGTON (Reuters) - The head of a conservat...</td>\n",
       "      <td>0</td>\n",
       "    </tr>\n",
       "    <tr>\n",
       "      <th>1</th>\n",
       "      <td>U.S. military to accept transgender recruits o...</td>\n",
       "      <td>WASHINGTON (Reuters) - Transgender people will...</td>\n",
       "      <td>0</td>\n",
       "    </tr>\n",
       "    <tr>\n",
       "      <th>2</th>\n",
       "      <td>Senior U.S. Republican senator: 'Let Mr. Muell...</td>\n",
       "      <td>WASHINGTON (Reuters) - The special counsel inv...</td>\n",
       "      <td>0</td>\n",
       "    </tr>\n",
       "    <tr>\n",
       "      <th>3</th>\n",
       "      <td>FBI Russia probe helped by Australian diplomat...</td>\n",
       "      <td>WASHINGTON (Reuters) - Trump campaign adviser ...</td>\n",
       "      <td>0</td>\n",
       "    </tr>\n",
       "    <tr>\n",
       "      <th>4</th>\n",
       "      <td>Trump wants Postal Service to charge 'much mor...</td>\n",
       "      <td>SEATTLE/WASHINGTON (Reuters) - President Donal...</td>\n",
       "      <td>0</td>\n",
       "    </tr>\n",
       "  </tbody>\n",
       "</table>\n",
       "</div>"
      ],
      "text/plain": [
       "                                               title  \\\n",
       "0  As U.S. budget fight looms, Republicans flip t...   \n",
       "1  U.S. military to accept transgender recruits o...   \n",
       "2  Senior U.S. Republican senator: 'Let Mr. Muell...   \n",
       "3  FBI Russia probe helped by Australian diplomat...   \n",
       "4  Trump wants Postal Service to charge 'much mor...   \n",
       "\n",
       "                                                text  result  \n",
       "0  WASHINGTON (Reuters) - The head of a conservat...       0  \n",
       "1  WASHINGTON (Reuters) - Transgender people will...       0  \n",
       "2  WASHINGTON (Reuters) - The special counsel inv...       0  \n",
       "3  WASHINGTON (Reuters) - Trump campaign adviser ...       0  \n",
       "4  SEATTLE/WASHINGTON (Reuters) - President Donal...       0  "
      ]
     },
     "execution_count": 125,
     "metadata": {},
     "output_type": "execute_result"
    }
   ],
   "source": [
    "truenews.head()"
   ]
  },
  {
   "cell_type": "code",
   "execution_count": 126,
   "id": "36708181-e9da-4bc9-9aeb-860b393c11ad",
   "metadata": {},
   "outputs": [],
   "source": [
    "frames = [truenews, fakenews]\n",
    " \n",
    "result = pd.concat(frames)"
   ]
  },
  {
   "cell_type": "code",
   "execution_count": 127,
   "id": "38f7ce2d-80c6-4a63-9073-eedec94d8993",
   "metadata": {},
   "outputs": [
    {
     "data": {
      "text/html": [
       "<div>\n",
       "<style scoped>\n",
       "    .dataframe tbody tr th:only-of-type {\n",
       "        vertical-align: middle;\n",
       "    }\n",
       "\n",
       "    .dataframe tbody tr th {\n",
       "        vertical-align: top;\n",
       "    }\n",
       "\n",
       "    .dataframe thead th {\n",
       "        text-align: right;\n",
       "    }\n",
       "</style>\n",
       "<table border=\"1\" class=\"dataframe\">\n",
       "  <thead>\n",
       "    <tr style=\"text-align: right;\">\n",
       "      <th></th>\n",
       "      <th>title</th>\n",
       "      <th>text</th>\n",
       "      <th>result</th>\n",
       "    </tr>\n",
       "  </thead>\n",
       "  <tbody>\n",
       "    <tr>\n",
       "      <th>0</th>\n",
       "      <td>As U.S. budget fight looms, Republicans flip t...</td>\n",
       "      <td>WASHINGTON (Reuters) - The head of a conservat...</td>\n",
       "      <td>0</td>\n",
       "    </tr>\n",
       "    <tr>\n",
       "      <th>1</th>\n",
       "      <td>U.S. military to accept transgender recruits o...</td>\n",
       "      <td>WASHINGTON (Reuters) - Transgender people will...</td>\n",
       "      <td>0</td>\n",
       "    </tr>\n",
       "    <tr>\n",
       "      <th>2</th>\n",
       "      <td>Senior U.S. Republican senator: 'Let Mr. Muell...</td>\n",
       "      <td>WASHINGTON (Reuters) - The special counsel inv...</td>\n",
       "      <td>0</td>\n",
       "    </tr>\n",
       "    <tr>\n",
       "      <th>3</th>\n",
       "      <td>FBI Russia probe helped by Australian diplomat...</td>\n",
       "      <td>WASHINGTON (Reuters) - Trump campaign adviser ...</td>\n",
       "      <td>0</td>\n",
       "    </tr>\n",
       "    <tr>\n",
       "      <th>4</th>\n",
       "      <td>Trump wants Postal Service to charge 'much mor...</td>\n",
       "      <td>SEATTLE/WASHINGTON (Reuters) - President Donal...</td>\n",
       "      <td>0</td>\n",
       "    </tr>\n",
       "  </tbody>\n",
       "</table>\n",
       "</div>"
      ],
      "text/plain": [
       "                                               title  \\\n",
       "0  As U.S. budget fight looms, Republicans flip t...   \n",
       "1  U.S. military to accept transgender recruits o...   \n",
       "2  Senior U.S. Republican senator: 'Let Mr. Muell...   \n",
       "3  FBI Russia probe helped by Australian diplomat...   \n",
       "4  Trump wants Postal Service to charge 'much mor...   \n",
       "\n",
       "                                                text  result  \n",
       "0  WASHINGTON (Reuters) - The head of a conservat...       0  \n",
       "1  WASHINGTON (Reuters) - Transgender people will...       0  \n",
       "2  WASHINGTON (Reuters) - The special counsel inv...       0  \n",
       "3  WASHINGTON (Reuters) - Trump campaign adviser ...       0  \n",
       "4  SEATTLE/WASHINGTON (Reuters) - President Donal...       0  "
      ]
     },
     "execution_count": 127,
     "metadata": {},
     "output_type": "execute_result"
    }
   ],
   "source": [
    "result.head()"
   ]
  },
  {
   "cell_type": "code",
   "execution_count": 128,
   "id": "35616a54-b901-437c-a988-9e68e99de0bf",
   "metadata": {},
   "outputs": [],
   "source": [
    "result['title'] = result['title'].map(lambda x:  x.lower())\n",
    "result['text'] = result['text'].map(lambda x:  x.lower())"
   ]
  },
  {
   "cell_type": "code",
   "execution_count": 129,
   "id": "dcff4c7b-f8e5-44e4-8ee2-88840187438d",
   "metadata": {},
   "outputs": [
    {
     "name": "stdout",
     "output_type": "stream",
     "text": [
      "                                                   title  \\\n",
      "12     factbox: trump on twitter (dec 28) - vanity fa...   \n",
      "14     man says he delivered manure to mnuchin to pro...   \n",
      "24     failed vote to oust president shakes up peru's...   \n",
      "32     house panel asks trump ex-top aide bannon to t...   \n",
      "37     factbox: big-ticket items at center of congres...   \n",
      "...                                                  ...   \n",
      "23462  boiler room – oregon standoff, cuddle parties,...   \n",
      "23463  eyewitness says feds ambushed bundys, 100 shot...   \n",
      "23472                      #hashtag hell & the fake left   \n",
      "23476  mcpain: john mccain furious that iran treated ...   \n",
      "23477  justice? yahoo settles e-mail privacy class-ac...   \n",
      "\n",
      "                                                    text  result  \n",
      "12     the following statements were posted to the ve...       0  \n",
      "14      (in dec. 25 story, in second paragraph, corre...       0  \n",
      "24     lima (reuters) - peru’s president pedro pablo ...       0  \n",
      "32     washington (reuters) - steve bannon, a former ...       0  \n",
      "37     (reuters) - the u.s. congress on thursday appr...       0  \n",
      "...                                                  ...     ...  \n",
      "23462  tune in to the alternate current radio network...       1  \n",
      "23463  patrick henningsen 21st century wire update: 1...       1  \n",
      "23472   by dady chery and gilbert mercierall writers ...       1  \n",
      "23476  21st century wire says as 21wire reported earl...       1  \n",
      "23477  21st century wire says it s a familiar theme. ...       1  \n",
      "\n",
      "[9013 rows x 3 columns]\n"
     ]
    }
   ],
   "source": [
    "import numpy as np\n",
    "msk = np.random.rand(len(result)) < 0.8\n",
    "train = result[msk].copy()\n",
    "test=result[~msk].copy()\n",
    "print(test)"
   ]
  },
  {
   "cell_type": "code",
   "execution_count": 130,
   "id": "2402d8b4-47d5-4185-8d58-718e4f5c2a6e",
   "metadata": {},
   "outputs": [
    {
     "data": {
      "text/plain": [
       "'!\"#$%&\\'()*+,-./:;<=>?@[\\\\]^_`{|}~'"
      ]
     },
     "execution_count": 130,
     "metadata": {},
     "output_type": "execute_result"
    }
   ],
   "source": [
    "import string\n",
    "string.punctuation"
   ]
  },
  {
   "cell_type": "code",
   "execution_count": 131,
   "id": "72ba7f99-583e-4bf2-859b-6c560e508067",
   "metadata": {},
   "outputs": [],
   "source": [
    "def remove_punct(txt):\n",
    "    text_remove_punct = [c for c in txt if c not in string.punctuation]\n",
    "    return text_remove_punct"
   ]
  },
  {
   "cell_type": "code",
   "execution_count": 132,
   "id": "a97ab6be-7968-43d0-ac86-31d6da8e777c",
   "metadata": {},
   "outputs": [],
   "source": [
    "import re\n",
    "def regular_expr(txt):\n",
    "    txt = re.sub('[^a-zA-Z]',' ',str(txt))\n",
    "    #txt = txt.split()\n",
    "    return txt"
   ]
  },
  {
   "cell_type": "code",
   "execution_count": 133,
   "id": "f2f0cb5e-a060-4ce6-baf6-dc6b66bb1fbd",
   "metadata": {},
   "outputs": [],
   "source": [
    "#train['text'] = train['text'].map(lambda x:  remove_punct(x))\n",
    "#test['text'] = test['text'].map(lambda x:  remove_punct(x))\n",
    "\n",
    "train['text'] = train['text'].map(lambda x:  regular_expr(x))\n",
    "test['text'] = test['text'].map(lambda x:  regular_expr(x))"
   ]
  },
  {
   "cell_type": "code",
   "execution_count": 134,
   "id": "be978e5a-4bd7-493f-adf8-ff134a90c021",
   "metadata": {},
   "outputs": [],
   "source": [
    "#result['text'] = result['text'].map(lambda x:  regular_expr(x))"
   ]
  },
  {
   "cell_type": "code",
   "execution_count": 135,
   "id": "1a8c84f8-4ecd-4abb-bf5e-d45fb68048ad",
   "metadata": {},
   "outputs": [
    {
     "name": "stdout",
     "output_type": "stream",
     "text": [
      "12       the following statements were posted to the ve...\n",
      "14         in dec     story  in second paragraph  corre...\n",
      "24       lima  reuters    peru s president pedro pablo ...\n",
      "32       washington  reuters    steve bannon  a former ...\n",
      "37        reuters    the u s  congress on thursday appr...\n",
      "                               ...                        \n",
      "23462    tune in to the alternate current radio network...\n",
      "23463    patrick henningsen   st century wire update   ...\n",
      "23472     by dady chery and gilbert mercierall writers ...\n",
      "23476      st century wire says as   wire reported earl...\n",
      "23477      st century wire says it s a familiar theme  ...\n",
      "Name: text, Length: 9013, dtype: object\n"
     ]
    }
   ],
   "source": [
    "print(test['text'])"
   ]
  },
  {
   "cell_type": "code",
   "execution_count": 136,
   "id": "e33770a8-9885-4e43-9de2-2848a24b5fda",
   "metadata": {},
   "outputs": [],
   "source": [
    "from nltk.stem import WordNetLemmatizer\n",
    "lemmatizer = WordNetLemmatizer()\n",
    "\n",
    "def lemmatiz(txt):\n",
    "    txt = lemmatizer.lemmatize(txt)\n",
    "    #txt = txt.split()\n",
    "    return txt\n"
   ]
  },
  {
   "cell_type": "code",
   "execution_count": 137,
   "id": "58ffd884-a455-4144-b65b-905ea682bdaf",
   "metadata": {},
   "outputs": [],
   "source": [
    "train['text'] = train['text'].map(lambda x:  lemmatiz(x))\n",
    "test['text'] = test['text'].map(lambda x:  lemmatiz(x))"
   ]
  },
  {
   "cell_type": "code",
   "execution_count": 138,
   "id": "96ed29f5-2512-4f89-a8f1-37e6a87475e8",
   "metadata": {},
   "outputs": [
    {
     "name": "stdout",
     "output_type": "stream",
     "text": [
      "0        washington  reuters    the head of a conservat...\n",
      "1        washington  reuters    transgender people will...\n",
      "2        washington  reuters    the special counsel inv...\n",
      "3        washington  reuters    trump campaign adviser ...\n",
      "4        seattle washington  reuters    president donal...\n",
      "                               ...                        \n",
      "23474    paul craig robertsin the last years of the   t...\n",
      "23475    robert fantina counterpunchalthough the united...\n",
      "23478    patrick henningsen    st century wireremember ...\n",
      "23479      st century wire says al jazeera america will...\n",
      "23480      st century wire says as   wire predicted in ...\n",
      "Name: text, Length: 35885, dtype: object\n"
     ]
    }
   ],
   "source": [
    "print(train['text'])"
   ]
  },
  {
   "cell_type": "code",
   "execution_count": 139,
   "id": "51a32afe-b748-4e26-af50-eadf2f4ae6f0",
   "metadata": {},
   "outputs": [],
   "source": [
    "def regular_token(txt):\n",
    "    #txt = re.sub('[^a-zA-Z]',' ',str(txt))\n",
    "    txt = txt.split()\n",
    "    return txt"
   ]
  },
  {
   "cell_type": "code",
   "execution_count": 140,
   "id": "6aa26a00-232f-489e-8570-87b9a5f2c05b",
   "metadata": {},
   "outputs": [],
   "source": [
    "#train['text'] = train['text'].map(lambda x:  regular_token(x))\n",
    "#test['text'] = test['text'].map(lambda x:  regular_token(x))"
   ]
  },
  {
   "cell_type": "code",
   "execution_count": 141,
   "id": "61e9710b-7b5c-4755-a036-18101adf9b7d",
   "metadata": {},
   "outputs": [
    {
     "name": "stdout",
     "output_type": "stream",
     "text": [
      "0        washington  reuters    the head of a conservat...\n",
      "1        washington  reuters    transgender people will...\n",
      "2        washington  reuters    the special counsel inv...\n",
      "3        washington  reuters    trump campaign adviser ...\n",
      "4        seattle washington  reuters    president donal...\n",
      "                               ...                        \n",
      "23474    paul craig robertsin the last years of the   t...\n",
      "23475    robert fantina counterpunchalthough the united...\n",
      "23478    patrick henningsen    st century wireremember ...\n",
      "23479      st century wire says al jazeera america will...\n",
      "23480      st century wire says as   wire predicted in ...\n",
      "Name: text, Length: 35885, dtype: object\n"
     ]
    }
   ],
   "source": [
    "print(train['text'])"
   ]
  },
  {
   "cell_type": "code",
   "execution_count": 145,
   "id": "c0397ac2-6f37-4df6-a255-d0ff5fe55315",
   "metadata": {},
   "outputs": [],
   "source": [
    "from sklearn.feature_extraction.text import TfidfVectorizer\n",
    "\n",
    "tfidf = TfidfVectorizer(max_features = 125772,lowercase = False, ngram_range = (1,2))\n",
    "x_train = tfidf.fit_transform(train['text'])\n",
    "x_test = tfidf.fit_transform(test['text'])\n",
    "#print(tfidf.fit_transform(result['text'][0]))\n",
    "#def regular_vectorize(txt):\n",
    "#   return tfidf.fit_transform(txt)"
   ]
  },
  {
   "cell_type": "code",
   "execution_count": 143,
   "id": "5dfb98a5-d1b7-439b-8b0a-c8a75688635c",
   "metadata": {},
   "outputs": [],
   "source": [
    "#result['count'] = result['text'].map(lambda x:  regular_vectorize([x]))"
   ]
  },
  {
   "cell_type": "code",
   "execution_count": 146,
   "id": "2a5d0eb3-8b69-41d8-99f8-7d6233a86467",
   "metadata": {},
   "outputs": [
    {
     "name": "stdout",
     "output_type": "stream",
     "text": [
      "(9013, 125772)\n",
      "(35885, 125772)\n"
     ]
    }
   ],
   "source": [
    "print(x_test.shape)\n",
    "print(x_train.shape)"
   ]
  },
  {
   "cell_type": "code",
   "execution_count": 75,
   "id": "9b49d3b4-3483-465d-9a55-9017284b1f0e",
   "metadata": {},
   "outputs": [
    {
     "name": "stdout",
     "output_type": "stream",
     "text": [
      "<bound method DataFrame.count of                                                    title  \\\n",
      "0      as u.s. budget fight looms, republicans flip t...   \n",
      "1      u.s. military to accept transgender recruits o...   \n",
      "2      senior u.s. republican senator: 'let mr. muell...   \n",
      "3      fbi russia probe helped by australian diplomat...   \n",
      "4      trump wants postal service to charge 'much mor...   \n",
      "...                                                  ...   \n",
      "23476  mcpain: john mccain furious that iran treated ...   \n",
      "23477  justice? yahoo settles e-mail privacy class-ac...   \n",
      "23478  sunnistan: us and allied ‘safe zone’ plan to t...   \n",
      "23479  how to blow $700 million: al jazeera america f...   \n",
      "23480  10 u.s. navy sailors held by iranian military ...   \n",
      "\n",
      "                                                    text  result  \n",
      "0      washington  reuters    the head of a conservat...       0  \n",
      "1      washington  reuters    transgender people will...       0  \n",
      "2      washington  reuters    the special counsel inv...       0  \n",
      "3      washington  reuters    trump campaign adviser ...       0  \n",
      "4      seattle washington  reuters    president donal...       0  \n",
      "...                                                  ...     ...  \n",
      "23476    st century wire says as   wire reported earl...       1  \n",
      "23477    st century wire says it s a familiar theme  ...       1  \n",
      "23478  patrick henningsen    st century wireremember ...       1  \n",
      "23479    st century wire says al jazeera america will...       1  \n",
      "23480    st century wire says as   wire predicted in ...       1  \n",
      "\n",
      "[44898 rows x 3 columns]>\n"
     ]
    }
   ],
   "source": [
    "print(result.count)"
   ]
  },
  {
   "cell_type": "code",
   "execution_count": 156,
   "id": "e524ae0d-2a1a-477f-8d56-e9c1fcd4365d",
   "metadata": {},
   "outputs": [],
   "source": [
    "from sklearn.naive_bayes import MultinomialNB \n",
    "\n",
    "clf = MultinomialNB()\n",
    "y_train = train['result'].to_numpy()\n",
    "clf.fit(x_train,y_train)\n",
    "predict = clf.predict(x_test)"
   ]
  },
  {
   "cell_type": "code",
   "execution_count": 155,
   "id": "c58ebda7-fc92-4114-8ae2-4f47d0f5b249",
   "metadata": {},
   "outputs": [
    {
     "name": "stdout",
     "output_type": "stream",
     "text": [
      "<class 'pandas.core.series.Series'>\n"
     ]
    }
   ],
   "source": [
    "print(type(y_train))"
   ]
  },
  {
   "cell_type": "code",
   "execution_count": 157,
   "id": "c386bcc1-f51b-4561-a247-f7e69fee93de",
   "metadata": {},
   "outputs": [],
   "source": [
    "y_test = test['result'].to_numpy()"
   ]
  },
  {
   "cell_type": "code",
   "execution_count": 158,
   "id": "5da8ec69-063b-4dcc-ae5b-77adaf7c56f1",
   "metadata": {},
   "outputs": [
    {
     "name": "stdout",
     "output_type": "stream",
     "text": [
      "<class 'numpy.ndarray'>\n"
     ]
    }
   ],
   "source": [
    "print(type(y_test))"
   ]
  },
  {
   "cell_type": "code",
   "execution_count": 160,
   "id": "f46a3ec1-e634-4523-8f28-57575bf1ebba",
   "metadata": {},
   "outputs": [
    {
     "name": "stdout",
     "output_type": "stream",
     "text": [
      "Accuracy : 0.6174414734272717\n"
     ]
    }
   ],
   "source": [
    "count = 0\n",
    "for i in range(len(y_test)):\n",
    "    if y_test[i] == predict[i]:\n",
    "        count+=1\n",
    "k = count/len(y_test)\n",
    "print(f'Accuracy : {k}')"
   ]
  },
  {
   "cell_type": "code",
   "execution_count": 161,
   "id": "f3414a5c-ed3a-45b7-9759-c32c68876a7a",
   "metadata": {},
   "outputs": [],
   "source": [
    "predict = clf.predict(x_train)"
   ]
  },
  {
   "cell_type": "code",
   "execution_count": 162,
   "id": "a00d4577-e3c6-40e7-a76c-8458740bdca0",
   "metadata": {},
   "outputs": [
    {
     "name": "stdout",
     "output_type": "stream",
     "text": [
      "Accuracy : 0.960484882262784\n"
     ]
    }
   ],
   "source": [
    "count = 0\n",
    "for i in range(len(y_train)):\n",
    "    if y_train[i] == predict[i]:\n",
    "        count+=1\n",
    "k = count/len(y_train)\n",
    "print(f'Accuracy : {k}')"
   ]
  },
  {
   "cell_type": "code",
   "execution_count": null,
   "id": "cc901e50-d142-470a-8719-47405cc26535",
   "metadata": {},
   "outputs": [],
   "source": []
  }
 ],
 "metadata": {
  "kernelspec": {
   "display_name": "Python 3 (ipykernel)",
   "language": "python",
   "name": "python3"
  },
  "language_info": {
   "codemirror_mode": {
    "name": "ipython",
    "version": 3
   },
   "file_extension": ".py",
   "mimetype": "text/x-python",
   "name": "python",
   "nbconvert_exporter": "python",
   "pygments_lexer": "ipython3",
   "version": "3.11.6"
  }
 },
 "nbformat": 4,
 "nbformat_minor": 5
}
