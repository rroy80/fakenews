{
 "cells": [
  {
   "cell_type": "code",
   "execution_count": 2,
   "id": "b577ce5d-397c-4d1c-abda-0b3c64ef48e7",
   "metadata": {},
   "outputs": [],
   "source": [
    "\n",
    "import pandas as pd \n",
    "import seaborn as sns \n",
    "import matplotlib.pyplot as plt\n",
    "import pickle"
   ]
  },
  {
   "cell_type": "code",
   "execution_count": 3,
   "id": "465347c0-f392-4af4-9061-fe2a3ce4e5c8",
   "metadata": {},
   "outputs": [],
   "source": [
    "truenews = pd.read_csv('./data/True.csv') \n",
    "#truenews.head()\n",
    "fakenews = pd.read_csv('./data/Fake.csv') \n",
    "#fakenews.head()"
   ]
  },
  {
   "cell_type": "code",
   "execution_count": 4,
   "id": "787552ba-5c83-4f36-bd50-b23c3c67f9fa",
   "metadata": {},
   "outputs": [],
   "source": [
    "\n",
    "truenews = truenews.drop([ \"subject\",\"date\"], axis = 1)\n",
    "fakenews = fakenews.drop([ \"subject\",\"date\"], axis = 1)"
   ]
  },
  {
   "cell_type": "code",
   "execution_count": 5,
   "id": "864b0060-112a-4457-8501-d3771471c0c1",
   "metadata": {},
   "outputs": [],
   "source": [
    "truenews['result'] = 0\n",
    "fakenews['result'] = 1"
   ]
  },
  {
   "cell_type": "code",
   "execution_count": 6,
   "id": "08baad50-05ee-4555-9169-eadf22682ce4",
   "metadata": {},
   "outputs": [
    {
     "data": {
      "text/html": [
       "<div>\n",
       "<style scoped>\n",
       "    .dataframe tbody tr th:only-of-type {\n",
       "        vertical-align: middle;\n",
       "    }\n",
       "\n",
       "    .dataframe tbody tr th {\n",
       "        vertical-align: top;\n",
       "    }\n",
       "\n",
       "    .dataframe thead th {\n",
       "        text-align: right;\n",
       "    }\n",
       "</style>\n",
       "<table border=\"1\" class=\"dataframe\">\n",
       "  <thead>\n",
       "    <tr style=\"text-align: right;\">\n",
       "      <th></th>\n",
       "      <th>title</th>\n",
       "      <th>text</th>\n",
       "      <th>result</th>\n",
       "    </tr>\n",
       "  </thead>\n",
       "  <tbody>\n",
       "    <tr>\n",
       "      <th>0</th>\n",
       "      <td>As U.S. budget fight looms, Republicans flip t...</td>\n",
       "      <td>WASHINGTON (Reuters) - The head of a conservat...</td>\n",
       "      <td>0</td>\n",
       "    </tr>\n",
       "    <tr>\n",
       "      <th>1</th>\n",
       "      <td>U.S. military to accept transgender recruits o...</td>\n",
       "      <td>WASHINGTON (Reuters) - Transgender people will...</td>\n",
       "      <td>0</td>\n",
       "    </tr>\n",
       "    <tr>\n",
       "      <th>2</th>\n",
       "      <td>Senior U.S. Republican senator: 'Let Mr. Muell...</td>\n",
       "      <td>WASHINGTON (Reuters) - The special counsel inv...</td>\n",
       "      <td>0</td>\n",
       "    </tr>\n",
       "    <tr>\n",
       "      <th>3</th>\n",
       "      <td>FBI Russia probe helped by Australian diplomat...</td>\n",
       "      <td>WASHINGTON (Reuters) - Trump campaign adviser ...</td>\n",
       "      <td>0</td>\n",
       "    </tr>\n",
       "    <tr>\n",
       "      <th>4</th>\n",
       "      <td>Trump wants Postal Service to charge 'much mor...</td>\n",
       "      <td>SEATTLE/WASHINGTON (Reuters) - President Donal...</td>\n",
       "      <td>0</td>\n",
       "    </tr>\n",
       "  </tbody>\n",
       "</table>\n",
       "</div>"
      ],
      "text/plain": [
       "                                               title  \\\n",
       "0  As U.S. budget fight looms, Republicans flip t...   \n",
       "1  U.S. military to accept transgender recruits o...   \n",
       "2  Senior U.S. Republican senator: 'Let Mr. Muell...   \n",
       "3  FBI Russia probe helped by Australian diplomat...   \n",
       "4  Trump wants Postal Service to charge 'much mor...   \n",
       "\n",
       "                                                text  result  \n",
       "0  WASHINGTON (Reuters) - The head of a conservat...       0  \n",
       "1  WASHINGTON (Reuters) - Transgender people will...       0  \n",
       "2  WASHINGTON (Reuters) - The special counsel inv...       0  \n",
       "3  WASHINGTON (Reuters) - Trump campaign adviser ...       0  \n",
       "4  SEATTLE/WASHINGTON (Reuters) - President Donal...       0  "
      ]
     },
     "execution_count": 6,
     "metadata": {},
     "output_type": "execute_result"
    }
   ],
   "source": [
    "truenews.head()"
   ]
  },
  {
   "cell_type": "code",
   "execution_count": 7,
   "id": "36708181-e9da-4bc9-9aeb-860b393c11ad",
   "metadata": {},
   "outputs": [],
   "source": [
    "frames = [truenews, fakenews]\n",
    " \n",
    "result = pd.concat(frames)"
   ]
  },
  {
   "cell_type": "code",
   "execution_count": 8,
   "id": "38f7ce2d-80c6-4a63-9073-eedec94d8993",
   "metadata": {},
   "outputs": [
    {
     "data": {
      "text/html": [
       "<div>\n",
       "<style scoped>\n",
       "    .dataframe tbody tr th:only-of-type {\n",
       "        vertical-align: middle;\n",
       "    }\n",
       "\n",
       "    .dataframe tbody tr th {\n",
       "        vertical-align: top;\n",
       "    }\n",
       "\n",
       "    .dataframe thead th {\n",
       "        text-align: right;\n",
       "    }\n",
       "</style>\n",
       "<table border=\"1\" class=\"dataframe\">\n",
       "  <thead>\n",
       "    <tr style=\"text-align: right;\">\n",
       "      <th></th>\n",
       "      <th>title</th>\n",
       "      <th>text</th>\n",
       "      <th>result</th>\n",
       "    </tr>\n",
       "  </thead>\n",
       "  <tbody>\n",
       "    <tr>\n",
       "      <th>0</th>\n",
       "      <td>As U.S. budget fight looms, Republicans flip t...</td>\n",
       "      <td>WASHINGTON (Reuters) - The head of a conservat...</td>\n",
       "      <td>0</td>\n",
       "    </tr>\n",
       "    <tr>\n",
       "      <th>1</th>\n",
       "      <td>U.S. military to accept transgender recruits o...</td>\n",
       "      <td>WASHINGTON (Reuters) - Transgender people will...</td>\n",
       "      <td>0</td>\n",
       "    </tr>\n",
       "    <tr>\n",
       "      <th>2</th>\n",
       "      <td>Senior U.S. Republican senator: 'Let Mr. Muell...</td>\n",
       "      <td>WASHINGTON (Reuters) - The special counsel inv...</td>\n",
       "      <td>0</td>\n",
       "    </tr>\n",
       "    <tr>\n",
       "      <th>3</th>\n",
       "      <td>FBI Russia probe helped by Australian diplomat...</td>\n",
       "      <td>WASHINGTON (Reuters) - Trump campaign adviser ...</td>\n",
       "      <td>0</td>\n",
       "    </tr>\n",
       "    <tr>\n",
       "      <th>4</th>\n",
       "      <td>Trump wants Postal Service to charge 'much mor...</td>\n",
       "      <td>SEATTLE/WASHINGTON (Reuters) - President Donal...</td>\n",
       "      <td>0</td>\n",
       "    </tr>\n",
       "  </tbody>\n",
       "</table>\n",
       "</div>"
      ],
      "text/plain": [
       "                                               title  \\\n",
       "0  As U.S. budget fight looms, Republicans flip t...   \n",
       "1  U.S. military to accept transgender recruits o...   \n",
       "2  Senior U.S. Republican senator: 'Let Mr. Muell...   \n",
       "3  FBI Russia probe helped by Australian diplomat...   \n",
       "4  Trump wants Postal Service to charge 'much mor...   \n",
       "\n",
       "                                                text  result  \n",
       "0  WASHINGTON (Reuters) - The head of a conservat...       0  \n",
       "1  WASHINGTON (Reuters) - Transgender people will...       0  \n",
       "2  WASHINGTON (Reuters) - The special counsel inv...       0  \n",
       "3  WASHINGTON (Reuters) - Trump campaign adviser ...       0  \n",
       "4  SEATTLE/WASHINGTON (Reuters) - President Donal...       0  "
      ]
     },
     "execution_count": 8,
     "metadata": {},
     "output_type": "execute_result"
    }
   ],
   "source": [
    "result.head()"
   ]
  },
  {
   "cell_type": "code",
   "execution_count": 9,
   "id": "35616a54-b901-437c-a988-9e68e99de0bf",
   "metadata": {},
   "outputs": [],
   "source": [
    "result['title'] = result['title'].map(lambda x:  x.lower())\n",
    "result['text'] = result['text'].map(lambda x:  x.lower())"
   ]
  },
  {
   "cell_type": "code",
   "execution_count": 10,
   "id": "dcff4c7b-f8e5-44e4-8ee2-88840187438d",
   "metadata": {},
   "outputs": [
    {
     "name": "stdout",
     "output_type": "stream",
     "text": [
      "                                                   title  \\\n",
      "2      senior u.s. republican senator: 'let mr. muell...   \n",
      "3      fbi russia probe helped by australian diplomat...   \n",
      "11     new york governor questions the constitutional...   \n",
      "14     man says he delivered manure to mnuchin to pro...   \n",
      "16     u.s. lawmakers question businessman at 2016 tr...   \n",
      "...                                                  ...   \n",
      "23461  report: ‘federal government escalated the viol...   \n",
      "23463  eyewitness says feds ambushed bundys, 100 shot...   \n",
      "23468  ron paul on burns oregon standoff and jury nul...   \n",
      "23475  hillary clinton: ‘israel first’ (and no peace ...   \n",
      "23478  sunnistan: us and allied ‘safe zone’ plan to t...   \n",
      "\n",
      "                                                    text  result  \n",
      "2      washington (reuters) - the special counsel inv...       0  \n",
      "3      washington (reuters) - trump campaign adviser ...       0  \n",
      "11     new york/washington (reuters) - the new u.s. t...       0  \n",
      "14      (in dec. 25 story, in second paragraph, corre...       0  \n",
      "16     washington (reuters) - a georgian-american bus...       0  \n",
      "...                                                  ...     ...  \n",
      "23461   killed: rancher and protest spokesman robert ...       1  \n",
      "23463  patrick henningsen 21st century wire update: 1...       1  \n",
      "23468  21st century wire says if you ve been followin...       1  \n",
      "23475  robert fantina counterpunchalthough the united...       1  \n",
      "23478  patrick henningsen  21st century wireremember ...       1  \n",
      "\n",
      "[8878 rows x 3 columns]\n"
     ]
    }
   ],
   "source": [
    "import numpy as np\n",
    "msk = np.random.rand(len(result)) < 0.8\n",
    "train = result[msk].copy()\n",
    "test=result[~msk].copy()\n",
    "print(test)"
   ]
  },
  {
   "cell_type": "code",
   "execution_count": 11,
   "id": "2402d8b4-47d5-4185-8d58-718e4f5c2a6e",
   "metadata": {},
   "outputs": [
    {
     "data": {
      "text/plain": [
       "'!\"#$%&\\'()*+,-./:;<=>?@[\\\\]^_`{|}~'"
      ]
     },
     "execution_count": 11,
     "metadata": {},
     "output_type": "execute_result"
    }
   ],
   "source": [
    "import string\n",
    "string.punctuation"
   ]
  },
  {
   "cell_type": "code",
   "execution_count": 12,
   "id": "72ba7f99-583e-4bf2-859b-6c560e508067",
   "metadata": {},
   "outputs": [],
   "source": [
    "def remove_punct(txt):\n",
    "    text_remove_punct = [c for c in txt if c not in string.punctuation]\n",
    "    return text_remove_punct"
   ]
  },
  {
   "cell_type": "code",
   "execution_count": 13,
   "id": "a97ab6be-7968-43d0-ac86-31d6da8e777c",
   "metadata": {},
   "outputs": [],
   "source": [
    "import re\n",
    "def regular_expr(txt):\n",
    "    txt = re.sub('[^a-zA-Z]',' ',str(txt))\n",
    "    #txt = txt.split()\n",
    "    return txt"
   ]
  },
  {
   "cell_type": "code",
   "execution_count": 14,
   "id": "f2f0cb5e-a060-4ce6-baf6-dc6b66bb1fbd",
   "metadata": {},
   "outputs": [],
   "source": [
    "#train['text'] = train['text'].map(lambda x:  remove_punct(x))\n",
    "#test['text'] = test['text'].map(lambda x:  remove_punct(x))\n",
    "\n",
    "train['text'] = train['text'].map(lambda x:  regular_expr(x))\n",
    "test['text'] = test['text'].map(lambda x:  regular_expr(x))"
   ]
  },
  {
   "cell_type": "code",
   "execution_count": 15,
   "id": "be978e5a-4bd7-493f-adf8-ff134a90c021",
   "metadata": {},
   "outputs": [],
   "source": [
    "#result['text'] = result['text'].map(lambda x:  regular_expr(x))"
   ]
  },
  {
   "cell_type": "code",
   "execution_count": 16,
   "id": "1a8c84f8-4ecd-4abb-bf5e-d45fb68048ad",
   "metadata": {},
   "outputs": [
    {
     "name": "stdout",
     "output_type": "stream",
     "text": [
      "2        washington  reuters    the special counsel inv...\n",
      "3        washington  reuters    trump campaign adviser ...\n",
      "11       new york washington  reuters    the new u s  t...\n",
      "14         in dec     story  in second paragraph  corre...\n",
      "16       washington  reuters    a georgian american bus...\n",
      "                               ...                        \n",
      "23461     killed  rancher and protest spokesman robert ...\n",
      "23463    patrick henningsen   st century wire update   ...\n",
      "23468      st century wire says if you ve been followin...\n",
      "23475    robert fantina counterpunchalthough the united...\n",
      "23478    patrick henningsen    st century wireremember ...\n",
      "Name: text, Length: 8878, dtype: object\n"
     ]
    }
   ],
   "source": [
    "print(test['text'])"
   ]
  },
  {
   "cell_type": "code",
   "execution_count": 17,
   "id": "e33770a8-9885-4e43-9de2-2848a24b5fda",
   "metadata": {},
   "outputs": [],
   "source": [
    "from nltk.stem import WordNetLemmatizer\n",
    "lemmatizer = WordNetLemmatizer()\n",
    "\n",
    "def lemmatiz(txt):\n",
    "    txt = lemmatizer.lemmatize(txt)\n",
    "    #txt = txt.split()\n",
    "    return txt\n"
   ]
  },
  {
   "cell_type": "code",
   "execution_count": 18,
   "id": "58ffd884-a455-4144-b65b-905ea682bdaf",
   "metadata": {},
   "outputs": [],
   "source": [
    "train['text'] = train['text'].map(lambda x:  lemmatiz(x))\n",
    "test['text'] = test['text'].map(lambda x:  lemmatiz(x))"
   ]
  },
  {
   "cell_type": "code",
   "execution_count": 19,
   "id": "96ed29f5-2512-4f89-a8f1-37e6a87475e8",
   "metadata": {},
   "outputs": [
    {
     "name": "stdout",
     "output_type": "stream",
     "text": [
      "0        washington  reuters    the head of a conservat...\n",
      "1        washington  reuters    transgender people will...\n",
      "4        seattle washington  reuters    president donal...\n",
      "5        west palm beach  fla  washington  reuters    t...\n",
      "6        west palm beach  fla  reuters    president don...\n",
      "                               ...                        \n",
      "23474    paul craig robertsin the last years of the   t...\n",
      "23476      st century wire says as   wire reported earl...\n",
      "23477      st century wire says it s a familiar theme  ...\n",
      "23479      st century wire says al jazeera america will...\n",
      "23480      st century wire says as   wire predicted in ...\n",
      "Name: text, Length: 36020, dtype: object\n"
     ]
    }
   ],
   "source": [
    "print(train['text'])"
   ]
  },
  {
   "cell_type": "code",
   "execution_count": 20,
   "id": "51a32afe-b748-4e26-af50-eadf2f4ae6f0",
   "metadata": {},
   "outputs": [],
   "source": [
    "def regular_token(txt):\n",
    "    #txt = re.sub('[^a-zA-Z]',' ',str(txt))\n",
    "    txt = txt.split()\n",
    "    return txt"
   ]
  },
  {
   "cell_type": "code",
   "execution_count": 21,
   "id": "6aa26a00-232f-489e-8570-87b9a5f2c05b",
   "metadata": {},
   "outputs": [],
   "source": [
    "#train['text'] = train['text'].map(lambda x:  regular_token(x))\n",
    "#test['text'] = test['text'].map(lambda x:  regular_token(x))"
   ]
  },
  {
   "cell_type": "code",
   "execution_count": 22,
   "id": "61e9710b-7b5c-4755-a036-18101adf9b7d",
   "metadata": {},
   "outputs": [
    {
     "name": "stdout",
     "output_type": "stream",
     "text": [
      "0        washington  reuters    the head of a conservat...\n",
      "1        washington  reuters    transgender people will...\n",
      "4        seattle washington  reuters    president donal...\n",
      "5        west palm beach  fla  washington  reuters    t...\n",
      "6        west palm beach  fla  reuters    president don...\n",
      "                               ...                        \n",
      "23474    paul craig robertsin the last years of the   t...\n",
      "23476      st century wire says as   wire reported earl...\n",
      "23477      st century wire says it s a familiar theme  ...\n",
      "23479      st century wire says al jazeera america will...\n",
      "23480      st century wire says as   wire predicted in ...\n",
      "Name: text, Length: 36020, dtype: object\n"
     ]
    }
   ],
   "source": [
    "print(train['text'])"
   ]
  },
  {
   "cell_type": "code",
   "execution_count": 38,
   "id": "c0397ac2-6f37-4df6-a255-d0ff5fe55315",
   "metadata": {},
   "outputs": [],
   "source": [
    "from sklearn.feature_extraction.text import TfidfVectorizer\n",
    "num_features=4900\n",
    "tfidf = TfidfVectorizer(max_df=0.95, min_df=2, max_features=num_features,lowercase = False, ngram_range = (1,2))\n",
    "x_train = tfidf.fit_transform(train['text'])\n",
    "x_test = tfidf.transform(test['text'])\n",
    "#print(tfidf.fit_transform(result['text'][0]))\n",
    "#def regular_vectorize(txt):\n",
    "#   return tfidf.fit_transform(txt)"
   ]
  },
  {
   "cell_type": "code",
   "execution_count": 24,
   "id": "c7fedb8d-a5e9-4462-ab54-98a3a1b77555",
   "metadata": {},
   "outputs": [],
   "source": [
    "pickle.dump(tfidf, open('./model/vectorizer.pkl','wb'))"
   ]
  },
  {
   "cell_type": "code",
   "execution_count": 25,
   "id": "5dfb98a5-d1b7-439b-8b0a-c8a75688635c",
   "metadata": {},
   "outputs": [],
   "source": [
    "#result['count'] = result['text'].map(lambda x:  regular_vectorize([x]))"
   ]
  },
  {
   "cell_type": "code",
   "execution_count": 26,
   "id": "2a5d0eb3-8b69-41d8-99f8-7d6233a86467",
   "metadata": {},
   "outputs": [
    {
     "name": "stdout",
     "output_type": "stream",
     "text": [
      "(8878, 4900)\n",
      "(36020, 4900)\n"
     ]
    }
   ],
   "source": [
    "print(x_test.shape)\n",
    "print(x_train.shape)"
   ]
  },
  {
   "cell_type": "code",
   "execution_count": 27,
   "id": "9b49d3b4-3483-465d-9a55-9017284b1f0e",
   "metadata": {},
   "outputs": [
    {
     "name": "stdout",
     "output_type": "stream",
     "text": [
      "<bound method DataFrame.count of                                                    title  \\\n",
      "0      as u.s. budget fight looms, republicans flip t...   \n",
      "1      u.s. military to accept transgender recruits o...   \n",
      "2      senior u.s. republican senator: 'let mr. muell...   \n",
      "3      fbi russia probe helped by australian diplomat...   \n",
      "4      trump wants postal service to charge 'much mor...   \n",
      "...                                                  ...   \n",
      "23476  mcpain: john mccain furious that iran treated ...   \n",
      "23477  justice? yahoo settles e-mail privacy class-ac...   \n",
      "23478  sunnistan: us and allied ‘safe zone’ plan to t...   \n",
      "23479  how to blow $700 million: al jazeera america f...   \n",
      "23480  10 u.s. navy sailors held by iranian military ...   \n",
      "\n",
      "                                                    text  result  \n",
      "0      washington (reuters) - the head of a conservat...       0  \n",
      "1      washington (reuters) - transgender people will...       0  \n",
      "2      washington (reuters) - the special counsel inv...       0  \n",
      "3      washington (reuters) - trump campaign adviser ...       0  \n",
      "4      seattle/washington (reuters) - president donal...       0  \n",
      "...                                                  ...     ...  \n",
      "23476  21st century wire says as 21wire reported earl...       1  \n",
      "23477  21st century wire says it s a familiar theme. ...       1  \n",
      "23478  patrick henningsen  21st century wireremember ...       1  \n",
      "23479  21st century wire says al jazeera america will...       1  \n",
      "23480  21st century wire says as 21wire predicted in ...       1  \n",
      "\n",
      "[44898 rows x 3 columns]>\n"
     ]
    }
   ],
   "source": [
    "print(result.count)"
   ]
  },
  {
   "cell_type": "code",
   "execution_count": 84,
   "id": "e524ae0d-2a1a-477f-8d56-e9c1fcd4365d",
   "metadata": {},
   "outputs": [],
   "source": [
    "from sklearn.naive_bayes import MultinomialNB \n",
    "\n",
    "clf = MultinomialNB()\n",
    "y_train = train['result'].to_numpy()\n",
    "clf.fit(x_train,y_train)\n",
    "predict_test = clf.predict(x_test)"
   ]
  },
  {
   "cell_type": "code",
   "execution_count": 29,
   "id": "c58ebda7-fc92-4114-8ae2-4f47d0f5b249",
   "metadata": {},
   "outputs": [
    {
     "name": "stdout",
     "output_type": "stream",
     "text": [
      "<class 'numpy.ndarray'>\n"
     ]
    }
   ],
   "source": [
    "print(type(y_train))"
   ]
  },
  {
   "cell_type": "code",
   "execution_count": 30,
   "id": "c386bcc1-f51b-4561-a247-f7e69fee93de",
   "metadata": {},
   "outputs": [],
   "source": [
    "y_test = test['result'].to_numpy()"
   ]
  },
  {
   "cell_type": "code",
   "execution_count": 31,
   "id": "5da8ec69-063b-4dcc-ae5b-77adaf7c56f1",
   "metadata": {},
   "outputs": [
    {
     "name": "stdout",
     "output_type": "stream",
     "text": [
      "<class 'numpy.ndarray'>\n"
     ]
    }
   ],
   "source": [
    "print(type(y_test))"
   ]
  },
  {
   "cell_type": "code",
   "execution_count": 85,
   "id": "f46a3ec1-e634-4523-8f28-57575bf1ebba",
   "metadata": {},
   "outputs": [
    {
     "name": "stdout",
     "output_type": "stream",
     "text": [
      "Accuracy : 0.9519035818878125\n"
     ]
    }
   ],
   "source": [
    "count = 0\n",
    "for i in range(len(y_test)):\n",
    "    if y_test[i] == predict_test[i]:\n",
    "        count+=1\n",
    "k = count/len(y_test)\n",
    "print(f'Accuracy : {k}')"
   ]
  },
  {
   "cell_type": "code",
   "execution_count": 86,
   "id": "f3414a5c-ed3a-45b7-9759-c32c68876a7a",
   "metadata": {},
   "outputs": [],
   "source": [
    "predict = clf.predict(x_train)"
   ]
  },
  {
   "cell_type": "code",
   "execution_count": 87,
   "id": "a00d4577-e3c6-40e7-a76c-8458740bdca0",
   "metadata": {},
   "outputs": [
    {
     "name": "stdout",
     "output_type": "stream",
     "text": [
      "Accuracy : 0.9496390893947807\n"
     ]
    }
   ],
   "source": [
    "count = 0\n",
    "for i in range(len(y_train)):\n",
    "    if y_train[i] == predict[i]:\n",
    "        count+=1\n",
    "k = count/len(y_train)\n",
    "print(f'Accuracy : {k}')"
   ]
  },
  {
   "cell_type": "code",
   "execution_count": 35,
   "id": "cc901e50-d142-470a-8719-47405cc26535",
   "metadata": {},
   "outputs": [],
   "source": [
    "import pickle\n",
    "pickle.dump(clf, open('./model/fake_news_nb.pkl','wb'))"
   ]
  },
  {
   "cell_type": "code",
   "execution_count": 88,
   "id": "df560efc-4832-44b6-a440-1d06b0acfbac",
   "metadata": {},
   "outputs": [
    {
     "data": {
      "image/png": "[encoded data removed]",
      "text/plain": [
       "<Figure size 640x480 with 2 Axes>"
      ]
     },
     "metadata": {},
     "output_type": "display_data"
    }
   ],
   "source": [
    "from sklearn.metrics import confusion_matrix, ConfusionMatrixDisplay\n",
    "import matplotlib.pyplot as plt\n",
    "cm=confusion_matrix(y_train, predict)\n",
    "disp = ConfusionMatrixDisplay(confusion_matrix=cm,\n",
    "                               display_labels=clf.classes_)\n",
    "disp.plot()\n",
    "plt.show()"
   ]
  },
  {
   "cell_type": "code",
   "execution_count": 79,
   "id": "e0e4a61c-5edc-4f2d-bdb8-e68b386415fc",
   "metadata": {},
   "outputs": [],
   "source": [
    "######Training Accuracy\n",
    "def accuracy_score(y_train,predict):\n",
    "  count = 0\n",
    "  True_Positive = 0\n",
    "  True_Negative = 0\n",
    "  False_Positive = 0\n",
    "  False_Negative = 0\n",
    "  for i in range(len(y_train)):\n",
    "    if y_train[i] == predict[i]:\n",
    "        if predict[i] == 1:\n",
    "            True_Positive += 1\n",
    "        else: \n",
    "            True_Negative += 1\n",
    "    else:\n",
    "        if predict[i] == 1:\n",
    "            False_Positive += 1\n",
    "        else: \n",
    "            False_Negative += 1\n",
    "  precision = True_Positive/(True_Positive + False_Positive)\n",
    "  recall = True_Positive/(True_Positive + False_Negative)\n",
    "  f1 = 2 * precision * recall / (precision + recall)\n",
    "  return (precision, recall, f1)"
   ]
  },
  {
   "cell_type": "code",
   "execution_count": 89,
   "id": "7cb2fcec-0be8-4d24-9953-2a40b0adb154",
   "metadata": {},
   "outputs": [
    {
     "name": "stdout",
     "output_type": "stream",
     "text": [
      "Training Accuracy Naive Bayes Precision : 0.95404137342717 Recall : 0.949485301920832, f1 : 0.9517578852188714\n",
      "Testing Accuracy Naive Bayes Precision : 0.9556084885231702 Recall : 0.9521035598705502, f1 : 0.9538528044958392\n"
     ]
    }
   ],
   "source": [
    "precision,recall,f1 = accuracy_score(y_train, predict)\n",
    "\n",
    "print(f'Training Accuracy Naive Bayes Precision : {precision} Recall : {recall}, f1 : {f1}')\n",
    "\n",
    "precision,recall,f1 = accuracy_score(y_test, predict_test)\n",
    "\n",
    "print(f'Testing Accuracy Naive Bayes Precision : {precision} Recall : {recall}, f1 : {f1}')"
   ]
  },
  {
   "cell_type": "code",
   "execution_count": null,
   "id": "f81978be-30fe-488c-80d0-58046f04d7cb",
   "metadata": {},
   "outputs": [],
   "source": []
  },
  {
   "cell_type": "code",
   "execution_count": 91,
   "id": "f1fe91a6-74e5-40ec-b1f0-c2dfa00ce874",
   "metadata": {},
   "outputs": [],
   "source": [
    "from sklearn.neural_network import MLPClassifier\n",
    "y_train = train['result'].to_numpy()\n",
    "mlp = MLPClassifier(hidden_layer_sizes=(8,8,8), activation='relu', solver='adam', max_iter=100)\n",
    "x_train_array_1=x_train.toarray()\n",
    "x_test_array_1=x_test.toarray()\n",
    "\n",
    "mlp.fit(x_train_array_1, y_train)\n",
    "predict_MLP_train=mlp.predict(x_train_array_1)"
   ]
  },
  {
   "cell_type": "code",
   "execution_count": 92,
   "id": "dfad8a91-880d-40e6-8506-02dc0105ba99",
   "metadata": {},
   "outputs": [
    {
     "name": "stdout",
     "output_type": "stream",
     "text": [
      "Accuracy : 0.9999722376457524\n"
     ]
    }
   ],
   "source": [
    "count = 0\n",
    "for i in range(len(y_train)):\n",
    "    if y_train[i] == predict_MLP_train[i]:\n",
    "        count+=1\n",
    "k = count/len(y_train)\n",
    "print(f'Accuracy : {k}')"
   ]
  },
  {
   "cell_type": "code",
   "execution_count": 93,
   "id": "f538aed2-4790-41ac-ad90-1d6c930ac6d2",
   "metadata": {},
   "outputs": [],
   "source": [
    "predict = mlp.predict(x_test.toarray())"
   ]
  },
  {
   "cell_type": "code",
   "execution_count": 94,
   "id": "fa31acc3-c904-4bc2-bef0-fa53334422ae",
   "metadata": {},
   "outputs": [
    {
     "name": "stdout",
     "output_type": "stream",
     "text": [
      "Accuracy : 0.9519035818878125\n"
     ]
    }
   ],
   "source": [
    "count = 0\n",
    "for i in range(len(y_test)):\n",
    "    if y_test[i] == predict_test[i]:\n",
    "        count+=1\n",
    "k = count/len(y_test)\n",
    "print(f'Accuracy : {k}')"
   ]
  },
  {
   "cell_type": "code",
   "execution_count": 95,
   "id": "b3e089ff-f7ae-4b54-8959-7b834d493faa",
   "metadata": {},
   "outputs": [
    {
     "data": {
      "image/png": "[encoded data removed]",
      "text/plain": [
       "<Figure size 640x480 with 2 Axes>"
      ]
     },
     "metadata": {},
     "output_type": "display_data"
    }
   ],
   "source": [
    "cm=confusion_matrix(y_train, predict_MLP_train)\n",
    "disp = ConfusionMatrixDisplay(confusion_matrix=cm,\n",
    "                               display_labels=clf.classes_)\n",
    "disp.plot()\n",
    "plt.show()"
   ]
  },
  {
   "cell_type": "code",
   "execution_count": 146,
   "id": "e2f4b56c-4110-4332-ba3f-7b2e894dbb7f",
   "metadata": {},
   "outputs": [
    {
     "name": "stdout",
     "output_type": "stream",
     "text": [
      "Training Accuracy NN Precision : 1.0 Recall : 0.9999469383423538, f1 : 0.9999734684672733\n",
      "Testing Accuracy NN Precision : 0.9958918918918919 Recall : 0.9937432578209278, f1 : 0.994816414686825\n"
     ]
    }
   ],
   "source": [
    "precision,recall,f1 = accuracy_score(y_train, predict_MLP_train)\n",
    "\n",
    "print(f'Training Accuracy NN Precision : {precision} Recall : {recall}, f1 : {f1}')\n",
    "\n",
    "precision,recall,f1 = accuracy_score(y_test, predict)\n",
    "\n",
    "print(f'Testing Accuracy NN Precision : {precision} Recall : {recall}, f1 : {f1}')"
   ]
  },
  {
   "cell_type": "code",
   "execution_count": 82,
   "id": "57d489e5-b226-401f-bb8c-99456b19cb76",
   "metadata": {},
   "outputs": [
    {
     "name": "stdout",
     "output_type": "stream",
     "text": [
      "Training Accuracy NN Precision : 0.9946027633851469 Recall : 0.9939590075512406, f1 : 0.9942807812668609\n"
     ]
    }
   ],
   "source": []
  },
  {
   "cell_type": "code",
   "execution_count": 45,
   "id": "506114d6-0f63-4772-a17e-95a302154966",
   "metadata": {},
   "outputs": [],
   "source": [
    "from tensorflow.keras.models import Sequential\n",
    "from tensorflow.keras.layers import Conv1D, MaxPooling2D, Dropout, Flatten, Dense,BatchNormalization,Activation"
   ]
  },
  {
   "cell_type": "code",
   "execution_count": 68,
   "id": "037455d9-85d4-4053-b7e7-6280f6fa4d8a",
   "metadata": {},
   "outputs": [],
   "source": [
    "#!pip3 install tensorflow"
   ]
  },
  {
   "cell_type": "code",
   "execution_count": 70,
   "id": "1c34dab7-c95e-4ebd-bc60-55f3bed89cf1",
   "metadata": {},
   "outputs": [
    {
     "name": "stdout",
     "output_type": "stream",
     "text": [
      "(35931, 70, 70, 1)\n",
      "(35931,)\n"
     ]
    }
   ],
   "source": [
    "x_train_array = x_train.toarray().reshape(-1,70, 70,1)\n",
    "print(x_train_array.shape)\n",
    "x_test_array = x_test.toarray().reshape(-1,70, 70,1)\n",
    "y_train\n",
    "print(y_train.shape)"
   ]
  },
  {
   "cell_type": "code",
   "execution_count": 63,
   "id": "be8fe48d-32c5-4528-9005-f5d0b79c077c",
   "metadata": {},
   "outputs": [],
   "source": [
    "#model = Sequential()\n",
    "#model.add(Dropout(0.2),input_shape=(1,70, 70, 1))\n",
    "#model.add(Conv2D(10,(2, 2),input_shape=(1,70, 70, 1)))\n",
    "#model.add(MaxPooling2D(pool_size=(2, 2)))\n",
    "#model.add(Flatten())\n",
    "#model.add(Dense(128))\n",
    "#model.add(BatchNormalization())\n",
    "#model.add(Activation('relu'))   \n",
    "#model.compile(loss='binary_crossentropy',optimizer='adam',metrics=['accuracy'])\n",
    "#model.summary()"
   ]
  },
  {
   "cell_type": "code",
   "execution_count": 64,
   "id": "9d89d509-b5c6-4e5c-a61d-1c92a7ea5c14",
   "metadata": {},
   "outputs": [],
   "source": [
    "#model.fit(x_train_array,y_train,epochs=5)"
   ]
  },
  {
   "cell_type": "code",
   "execution_count": 105,
   "id": "4b5e81ba-0aa8-46e4-a4d7-4c5917b66b61",
   "metadata": {},
   "outputs": [],
   "source": [
    "from sklearn.naive_bayes import GaussianNB\n",
    "clf = GaussianNB()\n",
    "clf.fit(x_train_array_1, y_train)\n",
    "predict_gaussian = clf.predict(x_train_array_1)"
   ]
  },
  {
   "cell_type": "code",
   "execution_count": 106,
   "id": "b0875f6f-255a-4f15-824d-6db8cf3d274b",
   "metadata": {},
   "outputs": [
    {
     "name": "stdout",
     "output_type": "stream",
     "text": [
      "Accuracy : 0.9531093836757357\n"
     ]
    }
   ],
   "source": [
    "count = 0\n",
    "for i in range(len(y_train)):\n",
    "    if y_train[i] == predict_gaussian[i]:\n",
    "        count+=1\n",
    "k = count/len(y_train)\n",
    "print(f'Accuracy : {k}')\n",
    "\n"
   ]
  },
  {
   "cell_type": "code",
   "execution_count": 107,
   "id": "b200b11b-8a46-4b96-bf0c-bd3f4ba05f2d",
   "metadata": {},
   "outputs": [],
   "source": [
    "\n",
    "predict_gaussian_test = clf.predict(x_test_array_1)"
   ]
  },
  {
   "cell_type": "code",
   "execution_count": 108,
   "id": "835f6bc4-b313-43d9-be42-50000a62eee1",
   "metadata": {},
   "outputs": [
    {
     "name": "stdout",
     "output_type": "stream",
     "text": [
      "Accuracy : 0.9505519261094841\n"
     ]
    }
   ],
   "source": [
    "count = 0\n",
    "for i in range(len(y_test)):\n",
    "    if y_test[i] == predict_gaussian_test[i]:\n",
    "        count+=1\n",
    "k = count/len(y_test)\n",
    "print(f'Accuracy : {k}')"
   ]
  },
  {
   "cell_type": "code",
   "execution_count": 109,
   "id": "20dea153-0723-4154-ae7b-706fdda0cd4c",
   "metadata": {},
   "outputs": [
    {
     "data": {
      "image/png": "[encoded data removed]",
      "text/plain": [
       "<Figure size 640x480 with 2 Axes>"
      ]
     },
     "metadata": {},
     "output_type": "display_data"
    }
   ],
   "source": [
    "cm=confusion_matrix(y_train, predict_gaussian)\n",
    "disp = ConfusionMatrixDisplay(confusion_matrix=cm,\n",
    "                               display_labels=clf.classes_)\n",
    "disp.plot()\n",
    "plt.show()"
   ]
  },
  {
   "cell_type": "code",
   "execution_count": 145,
   "id": "8e662650-178a-428a-ab3a-cd934685f465",
   "metadata": {},
   "outputs": [
    {
     "name": "stdout",
     "output_type": "stream",
     "text": [
      "Training Accuracy Gaussian Precision : 0.9727227640932385 Recall : 0.9366443807704553, f1 : 0.9543427134863351\n",
      "Testing Accuracy Gaussian Precision : 0.9729486023444545 Recall : 0.9311758360302049, f1 : 0.9516040127880057\n"
     ]
    }
   ],
   "source": [
    "precision,recall,f1 = accuracy_score(y_train, predict_gaussian)\n",
    "\n",
    "print(f'Training Accuracy Gaussian Precision : {precision} Recall : {recall}, f1 : {f1}')\n",
    "\n",
    "precision,recall,f1 = accuracy_score(y_test, predict_gaussian_test)\n",
    "\n",
    "print(f'Testing Accuracy Gaussian Precision : {precision} Recall : {recall}, f1 : {f1}')"
   ]
  },
  {
   "cell_type": "code",
   "execution_count": 111,
   "id": "d393daf2-ad96-471d-a4ec-cf4266e4aa3f",
   "metadata": {},
   "outputs": [
    {
     "data": {
      "text/html": [
       "<style>#sk-container-id-4 {color: black;}#sk-container-id-4 pre{padding: 0;}#sk-container-id-4 div.sk-toggleable {background-color: white;}#sk-container-id-4 label.sk-toggleable__label {cursor: pointer;display: block;width: 100%;margin-bottom: 0;padding: 0.3em;box-sizing: border-box;text-align: center;}#sk-container-id-4 label.sk-toggleable__label-arrow:before {content: \"▸\";float: left;margin-right: 0.25em;color: #696969;}#sk-container-id-4 label.sk-toggleable__label-arrow:hover:before {color: black;}#sk-container-id-4 div.sk-estimator:hover label.sk-toggleable__label-arrow:before {color: black;}#sk-container-id-4 div.sk-toggleable__content {max-height: 0;max-width: 0;overflow: hidden;text-align: left;background-color: #f0f8ff;}#sk-container-id-4 div.sk-toggleable__content pre {margin: 0.2em;color: black;border-radius: 0.25em;background-color: #f0f8ff;}#sk-container-id-4 input.sk-toggleable__control:checked~div.sk-toggleable__content {max-height: 200px;max-width: 100%;overflow: auto;}#sk-container-id-4 input.sk-toggleable__control:checked~label.sk-toggleable__label-arrow:before {content: \"▾\";}#sk-container-id-4 div.sk-estimator input.sk-toggleable__control:checked~label.sk-toggleable__label {background-color: #d4ebff;}#sk-container-id-4 div.sk-label input.sk-toggleable__control:checked~label.sk-toggleable__label {background-color: #d4ebff;}#sk-container-id-4 input.sk-hidden--visually {border: 0;clip: rect(1px 1px 1px 1px);clip: rect(1px, 1px, 1px, 1px);height: 1px;margin: -1px;overflow: hidden;padding: 0;position: absolute;width: 1px;}#sk-container-id-4 div.sk-estimator {font-family: monospace;background-color: #f0f8ff;border: 1px dotted black;border-radius: 0.25em;box-sizing: border-box;margin-bottom: 0.5em;}#sk-container-id-4 div.sk-estimator:hover {background-color: #d4ebff;}#sk-container-id-4 div.sk-parallel-item::after {content: \"\";width: 100%;border-bottom: 1px solid gray;flex-grow: 1;}#sk-container-id-4 div.sk-label:hover label.sk-toggleable__label {background-color: #d4ebff;}#sk-container-id-4 div.sk-serial::before {content: \"\";position: absolute;border-left: 1px solid gray;box-sizing: border-box;top: 0;bottom: 0;left: 50%;z-index: 0;}#sk-container-id-4 div.sk-serial {display: flex;flex-direction: column;align-items: center;background-color: white;padding-right: 0.2em;padding-left: 0.2em;position: relative;}#sk-container-id-4 div.sk-item {position: relative;z-index: 1;}#sk-container-id-4 div.sk-parallel {display: flex;align-items: stretch;justify-content: center;background-color: white;position: relative;}#sk-container-id-4 div.sk-item::before, #sk-container-id-4 div.sk-parallel-item::before {content: \"\";position: absolute;border-left: 1px solid gray;box-sizing: border-box;top: 0;bottom: 0;left: 50%;z-index: -1;}#sk-container-id-4 div.sk-parallel-item {display: flex;flex-direction: column;z-index: 1;position: relative;background-color: white;}#sk-container-id-4 div.sk-parallel-item:first-child::after {align-self: flex-end;width: 50%;}#sk-container-id-4 div.sk-parallel-item:last-child::after {align-self: flex-start;width: 50%;}#sk-container-id-4 div.sk-parallel-item:only-child::after {width: 0;}#sk-container-id-4 div.sk-dashed-wrapped {border: 1px dashed gray;margin: 0 0.4em 0.5em 0.4em;box-sizing: border-box;padding-bottom: 0.4em;background-color: white;}#sk-container-id-4 div.sk-label label {font-family: monospace;font-weight: bold;display: inline-block;line-height: 1.2em;}#sk-container-id-4 div.sk-label-container {text-align: center;}#sk-container-id-4 div.sk-container {/* jupyter's `normalize.less` sets `[hidden] { display: none; }` but bootstrap.min.css set `[hidden] { display: none !important; }` so we also need the `!important` here to be able to override the default hidden behavior on the sphinx rendered scikit-learn.org. See: https://github.com/scikit-learn/scikit-learn/issues/21755 */display: inline-block !important;position: relative;}#sk-container-id-4 div.sk-text-repr-fallback {display: none;}</style><div id=\"sk-container-id-4\" class=\"sk-top-container\"><div class=\"sk-text-repr-fallback\"><pre>KNeighborsClassifier(n_neighbors=3)</pre><b>In a Jupyter environment, please rerun this cell to show the HTML representation or trust the notebook. <br />On GitHub, the HTML representation is unable to render, please try loading this page with nbviewer.org.</b></div><div class=\"sk-container\" hidden><div class=\"sk-item\"><div class=\"sk-estimator sk-toggleable\"><input class=\"sk-toggleable__control sk-hidden--visually\" id=\"sk-estimator-id-4\" type=\"checkbox\" checked><label for=\"sk-estimator-id-4\" class=\"sk-toggleable__label sk-toggleable__label-arrow\">KNeighborsClassifier</label><div class=\"sk-toggleable__content\"><pre>KNeighborsClassifier(n_neighbors=3)</pre></div></div></div></div></div>"
      ],
      "text/plain": [
       "KNeighborsClassifier(n_neighbors=3)"
      ]
     },
     "execution_count": 111,
     "metadata": {},
     "output_type": "execute_result"
    }
   ],
   "source": [
    "from sklearn.neighbors import KNeighborsClassifier\n",
    "neigh = KNeighborsClassifier(n_neighbors=3)\n",
    "neigh.fit(x_train_array_1, y_train)\n"
   ]
  },
  {
   "cell_type": "code",
   "execution_count": 112,
   "id": "1134dc18-7dbc-402d-b6de-9807836542bf",
   "metadata": {},
   "outputs": [],
   "source": [
    "predict_neigh_train = neigh.predict(x_train_array_1)"
   ]
  },
  {
   "cell_type": "code",
   "execution_count": 114,
   "id": "94c120f4-8fbc-497a-aa93-66ef415c6177",
   "metadata": {},
   "outputs": [
    {
     "name": "stdout",
     "output_type": "stream",
     "text": [
      "Accuracy : 0.8053858967240421\n"
     ]
    }
   ],
   "source": [
    "count = 0\n",
    "for i in range(len(y_train)):\n",
    "    if y_train[i] == predict_neigh_train[i]:\n",
    "        count+=1\n",
    "k = count/len(y_train)\n",
    "print(f'Accuracy : {k}')"
   ]
  },
  {
   "cell_type": "code",
   "execution_count": 115,
   "id": "64f445d6-5489-4927-86f7-400e5635483b",
   "metadata": {},
   "outputs": [],
   "source": [
    "predict_neigh_test = neigh.predict(x_test_array_1)"
   ]
  },
  {
   "cell_type": "code",
   "execution_count": 116,
   "id": "1102fae7-87ab-4a9b-869c-9724fb61ee86",
   "metadata": {},
   "outputs": [
    {
     "name": "stdout",
     "output_type": "stream",
     "text": [
      "Accuracy : 0.7208830817751746\n"
     ]
    }
   ],
   "source": [
    "count = 0\n",
    "for i in range(len(y_test)):\n",
    "    if y_test[i] == predict_neigh_test[i]:\n",
    "        count+=1\n",
    "k = count/len(y_test)\n",
    "print(f'Accuracy : {k}')"
   ]
  },
  {
   "cell_type": "code",
   "execution_count": 117,
   "id": "86e465f3-cdc7-4b6b-86c4-8acbead0b5ce",
   "metadata": {},
   "outputs": [
    {
     "data": {
      "image/png": "[encoded data removed]",
      "text/plain": [
       "<Figure size 640x480 with 2 Axes>"
      ]
     },
     "metadata": {},
     "output_type": "display_data"
    }
   ],
   "source": [
    "cm=confusion_matrix(y_train, predict_neigh_train)\n",
    "disp = ConfusionMatrixDisplay(confusion_matrix=cm,\n",
    "                               display_labels=clf.classes_)\n",
    "disp.plot()\n",
    "plt.show()"
   ]
  },
  {
   "cell_type": "code",
   "execution_count": 144,
   "id": "11a5267c-da77-446e-b0a3-925832d57af0",
   "metadata": {},
   "outputs": [
    {
     "name": "stdout",
     "output_type": "stream",
     "text": [
      "Training Accuracy KNN Precision : 0.7344505189763093 Recall : 0.9837100711026212, f1 : 0.8409998185447287\n",
      "Testing Accuracy KNN Precision : 0.658859920459567 Recall : 0.9650485436893204, f1 : 0.7830882352941176\n"
     ]
    }
   ],
   "source": [
    "precision,recall,f1 = accuracy_score(y_train, predict_neigh_train)\n",
    "\n",
    "print(f'Training Accuracy KNN Precision : {precision} Recall : {recall}, f1 : {f1}')\n",
    "\n",
    "precision,recall,f1 = accuracy_score(y_test, predict_neigh_test)\n",
    "\n",
    "print(f'Testing Accuracy KNN Precision : {precision} Recall : {recall}, f1 : {f1}')"
   ]
  },
  {
   "cell_type": "code",
   "execution_count": 118,
   "id": "47bda5f5-a0ff-423c-aa6b-f46494959893",
   "metadata": {},
   "outputs": [],
   "source": [
    "#!pip3 install wordcloud"
   ]
  },
  {
   "cell_type": "code",
   "execution_count": 126,
   "id": "e1724927-d3be-4b31-9089-d56a85b93736",
   "metadata": {},
   "outputs": [],
   "source": [
    "from sklearn.linear_model import LogisticRegression\n",
    "clf = LogisticRegression(random_state=0).fit(x_train_array_1, y_train)\n",
    "Predict_logitsic = clf.predict(x_train_array_1)"
   ]
  },
  {
   "cell_type": "code",
   "execution_count": 127,
   "id": "0846d4e1-3506-4ec4-9306-3ec915ecb2fc",
   "metadata": {},
   "outputs": [
    {
     "name": "stdout",
     "output_type": "stream",
     "text": [
      "Accuracy : 0.9923098278734037\n"
     ]
    }
   ],
   "source": [
    "count = 0\n",
    "for i in range(len(y_train)):\n",
    "    if y_train[i] == Predict_logitsic[i]:\n",
    "        count+=1\n",
    "k = count/len(y_train)\n",
    "print(f'Accuracy : {k}')"
   ]
  },
  {
   "cell_type": "code",
   "execution_count": 128,
   "id": "7acce0a6-32f7-4830-ba96-ad1c63a124ee",
   "metadata": {},
   "outputs": [],
   "source": [
    "predict_logitsic_test = clf.predict(x_test_array_1)"
   ]
  },
  {
   "cell_type": "code",
   "execution_count": 129,
   "id": "3029abe2-2025-450b-8e63-a1b41a382550",
   "metadata": {},
   "outputs": [
    {
     "name": "stdout",
     "output_type": "stream",
     "text": [
      "Accuracy : 0.9909889614778103\n"
     ]
    }
   ],
   "source": [
    "count = 0\n",
    "for i in range(len(y_test)):\n",
    "    if y_test[i] == predict_logitsic_test[i]:\n",
    "        count+=1\n",
    "k = count/len(y_test)\n",
    "print(f'Accuracy : {k}')"
   ]
  },
  {
   "cell_type": "code",
   "execution_count": 130,
   "id": "0d6875d4-9e26-4e72-89b3-ba6240d9656d",
   "metadata": {},
   "outputs": [
    {
     "data": {
      "image/png": "[encoded data removed]",
      "text/plain": [
       "<Figure size 640x480 with 2 Axes>"
      ]
     },
     "metadata": {},
     "output_type": "display_data"
    }
   ],
   "source": [
    "cm=confusion_matrix(y_train, Predict_logitsic)\n",
    "disp = ConfusionMatrixDisplay(confusion_matrix=cm,\n",
    "                               display_labels=clf.classes_)\n",
    "disp.plot()\n",
    "plt.show()"
   ]
  },
  {
   "cell_type": "code",
   "execution_count": 143,
   "id": "353f1c5b-2f6e-46a4-8fc4-274d9b4d7c48",
   "metadata": {},
   "outputs": [
    {
     "name": "stdout",
     "output_type": "stream",
     "text": [
      "Training Accuracy Logistic Regression Precision : 0.993777588682657 Recall : 0.9915101347766104, f1 : 0.9926425668676458\n",
      "Testing Accuracy Logistic Regression Precision : 0.9930720935267374 Recall : 0.9896440129449838, f1 : 0.9913550896909445\n"
     ]
    }
   ],
   "source": [
    "precision,recall,f1 = accuracy_score(y_train, Predict_logitsic)\n",
    "\n",
    "print(f'Training Accuracy Logistic Regression Precision : {precision} Recall : {recall}, f1 : {f1}')\n",
    "\n",
    "precision,recall,f1 = accuracy_score(y_test, predict_logitsic_test)\n",
    "\n",
    "print(f'Testing Accuracy Logistic Regression Precision : {precision} Recall : {recall}, f1 : {f1}')"
   ]
  },
  {
   "cell_type": "code",
   "execution_count": 134,
   "id": "5d5c0d74-6986-4a79-8d7b-7067a9329a7f",
   "metadata": {},
   "outputs": [],
   "source": [
    "from sklearn.decomposition import PCA\n",
    " \n",
    "pca = PCA(n_components = 2)\n",
    " \n",
    "X_train = pca.fit_transform(x_train_array_1)\n",
    "X_test = pca.transform(x_test_array_1)"
   ]
  },
  {
   "cell_type": "code",
   "execution_count": 135,
   "id": "723ad652-d0e1-4827-b6f0-0b7c098069c2",
   "metadata": {},
   "outputs": [
    {
     "data": {
      "text/html": [
       "<style>#sk-container-id-6 {color: black;}#sk-container-id-6 pre{padding: 0;}#sk-container-id-6 div.sk-toggleable {background-color: white;}#sk-container-id-6 label.sk-toggleable__label {cursor: pointer;display: block;width: 100%;margin-bottom: 0;padding: 0.3em;box-sizing: border-box;text-align: center;}#sk-container-id-6 label.sk-toggleable__label-arrow:before {content: \"▸\";float: left;margin-right: 0.25em;color: #696969;}#sk-container-id-6 label.sk-toggleable__label-arrow:hover:before {color: black;}#sk-container-id-6 div.sk-estimator:hover label.sk-toggleable__label-arrow:before {color: black;}#sk-container-id-6 div.sk-toggleable__content {max-height: 0;max-width: 0;overflow: hidden;text-align: left;background-color: #f0f8ff;}#sk-container-id-6 div.sk-toggleable__content pre {margin: 0.2em;color: black;border-radius: 0.25em;background-color: #f0f8ff;}#sk-container-id-6 input.sk-toggleable__control:checked~div.sk-toggleable__content {max-height: 200px;max-width: 100%;overflow: auto;}#sk-container-id-6 input.sk-toggleable__control:checked~label.sk-toggleable__label-arrow:before {content: \"▾\";}#sk-container-id-6 div.sk-estimator input.sk-toggleable__control:checked~label.sk-toggleable__label {background-color: #d4ebff;}#sk-container-id-6 div.sk-label input.sk-toggleable__control:checked~label.sk-toggleable__label {background-color: #d4ebff;}#sk-container-id-6 input.sk-hidden--visually {border: 0;clip: rect(1px 1px 1px 1px);clip: rect(1px, 1px, 1px, 1px);height: 1px;margin: -1px;overflow: hidden;padding: 0;position: absolute;width: 1px;}#sk-container-id-6 div.sk-estimator {font-family: monospace;background-color: #f0f8ff;border: 1px dotted black;border-radius: 0.25em;box-sizing: border-box;margin-bottom: 0.5em;}#sk-container-id-6 div.sk-estimator:hover {background-color: #d4ebff;}#sk-container-id-6 div.sk-parallel-item::after {content: \"\";width: 100%;border-bottom: 1px solid gray;flex-grow: 1;}#sk-container-id-6 div.sk-label:hover label.sk-toggleable__label {background-color: #d4ebff;}#sk-container-id-6 div.sk-serial::before {content: \"\";position: absolute;border-left: 1px solid gray;box-sizing: border-box;top: 0;bottom: 0;left: 50%;z-index: 0;}#sk-container-id-6 div.sk-serial {display: flex;flex-direction: column;align-items: center;background-color: white;padding-right: 0.2em;padding-left: 0.2em;position: relative;}#sk-container-id-6 div.sk-item {position: relative;z-index: 1;}#sk-container-id-6 div.sk-parallel {display: flex;align-items: stretch;justify-content: center;background-color: white;position: relative;}#sk-container-id-6 div.sk-item::before, #sk-container-id-6 div.sk-parallel-item::before {content: \"\";position: absolute;border-left: 1px solid gray;box-sizing: border-box;top: 0;bottom: 0;left: 50%;z-index: -1;}#sk-container-id-6 div.sk-parallel-item {display: flex;flex-direction: column;z-index: 1;position: relative;background-color: white;}#sk-container-id-6 div.sk-parallel-item:first-child::after {align-self: flex-end;width: 50%;}#sk-container-id-6 div.sk-parallel-item:last-child::after {align-self: flex-start;width: 50%;}#sk-container-id-6 div.sk-parallel-item:only-child::after {width: 0;}#sk-container-id-6 div.sk-dashed-wrapped {border: 1px dashed gray;margin: 0 0.4em 0.5em 0.4em;box-sizing: border-box;padding-bottom: 0.4em;background-color: white;}#sk-container-id-6 div.sk-label label {font-family: monospace;font-weight: bold;display: inline-block;line-height: 1.2em;}#sk-container-id-6 div.sk-label-container {text-align: center;}#sk-container-id-6 div.sk-container {/* jupyter's `normalize.less` sets `[hidden] { display: none; }` but bootstrap.min.css set `[hidden] { display: none !important; }` so we also need the `!important` here to be able to override the default hidden behavior on the sphinx rendered scikit-learn.org. See: https://github.com/scikit-learn/scikit-learn/issues/21755 */display: inline-block !important;position: relative;}#sk-container-id-6 div.sk-text-repr-fallback {display: none;}</style><div id=\"sk-container-id-6\" class=\"sk-top-container\"><div class=\"sk-text-repr-fallback\"><pre>SVC(kernel=&#x27;linear&#x27;)</pre><b>In a Jupyter environment, please rerun this cell to show the HTML representation or trust the notebook. <br />On GitHub, the HTML representation is unable to render, please try loading this page with nbviewer.org.</b></div><div class=\"sk-container\" hidden><div class=\"sk-item\"><div class=\"sk-estimator sk-toggleable\"><input class=\"sk-toggleable__control sk-hidden--visually\" id=\"sk-estimator-id-6\" type=\"checkbox\" checked><label for=\"sk-estimator-id-6\" class=\"sk-toggleable__label sk-toggleable__label-arrow\">SVC</label><div class=\"sk-toggleable__content\"><pre>SVC(kernel=&#x27;linear&#x27;)</pre></div></div></div></div></div>"
      ],
      "text/plain": [
       "SVC(kernel='linear')"
      ]
     },
     "execution_count": 135,
     "metadata": {},
     "output_type": "execute_result"
    }
   ],
   "source": [
    "from sklearn import svm\n",
    "cls = svm.SVC(kernel=\"linear\")\n",
    "y_train = train['result'].to_numpy()\n",
    "cls.fit(X_train, y_train)"
   ]
  },
  {
   "cell_type": "code",
   "execution_count": 136,
   "id": "01724f3b-eebc-46f8-a975-30efb97d21fc",
   "metadata": {},
   "outputs": [],
   "source": [
    "predict_SVM_train = cls.predict(X_train)"
   ]
  },
  {
   "cell_type": "code",
   "execution_count": 137,
   "id": "b8e210c3-6fd9-4d06-b9cc-444504d2f4d7",
   "metadata": {},
   "outputs": [
    {
     "name": "stdout",
     "output_type": "stream",
     "text": [
      "Accuracy : 0.8378956135480289\n"
     ]
    }
   ],
   "source": [
    "count = 0\n",
    "for i in range(len(y_train)):\n",
    "    if y_train[i] == predict_SVM_train[i]:\n",
    "        count+=1\n",
    "k = count/len(y_train)\n",
    "print(f'Accuracy : {k}')"
   ]
  },
  {
   "cell_type": "code",
   "execution_count": 138,
   "id": "2e38766c-a4c2-45d9-84df-22f3ac502ac5",
   "metadata": {},
   "outputs": [],
   "source": [
    "predict_SVM_test = cls.predict(X_test)"
   ]
  },
  {
   "cell_type": "code",
   "execution_count": 139,
   "id": "cc161fd6-e144-49e2-9593-113b8e6a20e8",
   "metadata": {},
   "outputs": [
    {
     "name": "stdout",
     "output_type": "stream",
     "text": [
      "Accuracy : 0.8393782383419689\n"
     ]
    }
   ],
   "source": [
    "count = 0\n",
    "for i in range(len(y_test)):\n",
    "    if y_test[i] == predict_SVM_test[i]:\n",
    "        count+=1\n",
    "k = count/len(y_test)\n",
    "print(f'Accuracy : {k}')"
   ]
  },
  {
   "cell_type": "code",
   "execution_count": 140,
   "id": "ef8e4bb0-6ab1-4a30-b211-280e46ad4ab8",
   "metadata": {},
   "outputs": [
    {
     "data": {
      "image/png": "[encoded data removed]",
      "text/plain": [
       "<Figure size 640x480 with 2 Axes>"
      ]
     },
     "metadata": {},
     "output_type": "display_data"
    }
   ],
   "source": [
    "cm=confusion_matrix(y_train, predict_SVM_train)\n",
    "disp = ConfusionMatrixDisplay(confusion_matrix=cm,\n",
    "                               display_labels=clf.classes_)\n",
    "disp.plot()\n",
    "plt.show()"
   ]
  },
  {
   "cell_type": "code",
   "execution_count": 142,
   "id": "7186ecd4-8921-460e-9174-06ae363c7617",
   "metadata": {},
   "outputs": [
    {
     "name": "stdout",
     "output_type": "stream",
     "text": [
      "Training Accuracy SVM : 0.8375811056319751 Recall : 0.856202907778839, f1 : 0.8467896407861247\n",
      "Testing Accuracy SVM Precision : 0.8375762676204502 Recall : 0.8588996763754045, f1 : 0.8481039625053259\n"
     ]
    }
   ],
   "source": [
    "precision,recall,f1 = accuracy_score(y_train, predict_SVM_train)\n",
    "\n",
    "print(f'Training Accuracy SVM : {precision} Recall : {recall}, f1 : {f1}')\n",
    "\n",
    "precision,recall,f1 = accuracy_score(y_test, predict_SVM_test)\n",
    "\n",
    "print(f'Testing Accuracy SVM Precision : {precision} Recall : {recall}, f1 : {f1}')"
   ]
  },
  {
   "cell_type": "code",
   "execution_count": null,
   "id": "a33c2c4d-e393-413b-a439-f36ffb887f77",
   "metadata": {},
   "outputs": [],
   "source": []
  }
 ],
 "metadata": {
  "kernelspec": {
   "display_name": "Python 3 (ipykernel)",
   "language": "python",
   "name": "python3"
  },
  "language_info": {
   "codemirror_mode": {
    "name": "ipython",
    "version": 3
   },
   "file_extension": ".py",
   "mimetype": "text/x-python",
   "name": "python",
   "nbconvert_exporter": "python",
   "pygments_lexer": "ipython3",
   "version": "3.11.6"
  }
 },
 "nbformat": 4,
 "nbformat_minor": 5
}
